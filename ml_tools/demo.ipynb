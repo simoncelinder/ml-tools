{
 "cells": [
  {
   "cell_type": "code",
   "execution_count": null,
   "metadata": {
    "tags": []
   },
   "outputs": [],
   "source": [
    "%load_ext autoreload\n",
    "%autoreload 2"
   ]
  },
  {
   "cell_type": "code",
   "execution_count": null,
   "metadata": {
    "jupyter": {
     "outputs_hidden": false
    },
    "pycharm": {
     "name": "#%%\n"
    }
   },
   "outputs": [],
   "source": [
    "import pandas as pd\n",
    "import numpy as np\n",
    "import matplotlib.pyplot as plt\n",
    "import seaborn as sns\n",
    "from lightgbm import LGBMRegressor\n",
    "import optuna\n",
    "import cufflinks as cf\n",
    "import warnings\n",
    "import datetime\n",
    "\n",
    "from ml_tools.datasets import generate_synthetic_data\n",
    "from ml_tools.eval import get_mae_from_cv_time_series\n",
    "from ml_tools.train_start_selector import TrainStartSelector\n",
    "from ml_tools.feature_selector import FeatureSelector\n",
    "from ml_tools.tuner import Tuner\n",
    "from ml_tools.model_assumption_selector import ModelAssumptionSelector\n",
    "\n",
    "cf.go_offline()\n",
    "plt.style.use('seaborn')\n",
    "plt.rcParams['figure.figsize'] = 20, 4\n",
    "pd.options.mode.chained_assignment = None\n",
    "warnings.filterwarnings('ignore')"
   ]
  },
  {
   "cell_type": "code",
   "execution_count": null,
   "metadata": {},
   "outputs": [],
   "source": [
    "# Shared assumption\n",
    "cv_start = datetime.date(2021, 6, 10)\n",
    "label = 'label'"
   ]
  },
  {
   "cell_type": "markdown",
   "metadata": {},
   "source": [
    "## 0) ModelAssumptionSelector - Combined Pipe Demo"
   ]
  },
  {
   "cell_type": "code",
   "execution_count": null,
   "metadata": {},
   "outputs": [],
   "source": [
    "df = generate_synthetic_data(\n",
    "    freq='d',\n",
    "    weekday_offset=True,\n",
    "    yearly_offset=True,\n",
    "    trend_stop_value=100\n",
    ")\n",
    "\n",
    "noise = np.random.normal(size=len(df), scale=5)\n",
    "df['feature'] = df.label + noise\n",
    "chaos_slice = df.index < '2020-01-01'\n",
    "df.loc[chaos_slice, 'feature'] = (\n",
    "    df.loc[chaos_slice, label] + \n",
    "    np.random.normal(size=sum(chaos_slice), scale=50))\n",
    "df['trash_feature'] = np.random.normal(size=len(df), scale=30)\n",
    "\n",
    "mas = ModelAssumptionSelector(\n",
    "    \n",
    "    selectors = (\n",
    "        \n",
    "        # 1) Select train start\n",
    "        TrainStartSelector(\n",
    "            eval_window_rows = len(df[cv_start:]),\n",
    "            min_train_rows = 7*4,\n",
    "            n_trials=3\n",
    "        ),\n",
    "        \n",
    "        # 2) Select best features\n",
    "        FeatureSelector(),\n",
    "        \n",
    "        # 3) Select best hyperparameters\n",
    "        Tuner(\n",
    "            lazy_optuna_space=[\n",
    "                ('learning_rate', 'trial.suggest_float', 0.03, 0.3),\n",
    "                ('n_estimators', 'trial.suggest_int', 10, 100),\n",
    "            ],\n",
    "            n_trials=20\n",
    "        )\n",
    "    )\n",
    ")\n",
    "    \n",
    "best_assumptions = mas.run(\n",
    "    eval_func=get_mae_from_cv_time_series,\n",
    "    df=df,\n",
    "    model_ref=LGBMRegressor,\n",
    "    feature_list=[i for i in df.columns if i != label]\n",
    ")\n",
    "\n",
    "best_assumptions"
   ]
  },
  {
   "cell_type": "markdown",
   "metadata": {},
   "source": [
    "## 1) Train start selector"
   ]
  },
  {
   "cell_type": "code",
   "execution_count": null,
   "metadata": {},
   "outputs": [],
   "source": [
    "df = generate_synthetic_data(\n",
    "    freq='d',\n",
    "    weekday_offset=True,\n",
    "    yearly_offset=True,\n",
    "    trend_stop_value=100\n",
    ")\n",
    "\n",
    "noise = np.random.normal(size=len(df), scale=5)\n",
    "df['feature'] = df.label + noise\n",
    "chaos_slice = df.index < '2020-01-01'\n",
    "df.loc[chaos_slice, 'feature'] = (\n",
    "    df.loc[chaos_slice, label] + \n",
    "    np.random.normal(size=sum(chaos_slice), scale=50))"
   ]
  },
  {
   "cell_type": "code",
   "execution_count": null,
   "metadata": {},
   "outputs": [],
   "source": [
    "df.iplot(rangeslider=True)"
   ]
  },
  {
   "cell_type": "code",
   "execution_count": null,
   "metadata": {},
   "outputs": [],
   "source": [
    "tss = TrainStartSelector(\n",
    "    eval_window_rows = len(df[cv_start:]),\n",
    "    min_train_rows= 7*4,\n",
    "    n_trials=20\n",
    ")\n",
    "\n",
    "tss.run(\n",
    "    eval_func=get_mae_from_cv_time_series,\n",
    "    df=df,\n",
    "    model_ref=LGBMRegressor,\n",
    "    cv_start = cv_start\n",
    ")"
   ]
  },
  {
   "cell_type": "code",
   "execution_count": null,
   "metadata": {},
   "outputs": [],
   "source": []
  },
  {
   "cell_type": "markdown",
   "metadata": {},
   "source": [
    "## 2) Feature Selector"
   ]
  },
  {
   "cell_type": "code",
   "execution_count": null,
   "metadata": {},
   "outputs": [],
   "source": [
    "df = generate_synthetic_data(\n",
    "    freq='d',\n",
    "    weekday_offset=True,\n",
    "    yearly_offset=True,\n",
    "    trend_stop_value=100\n",
    ")"
   ]
  },
  {
   "cell_type": "code",
   "execution_count": null,
   "metadata": {},
   "outputs": [],
   "source": [
    "noise = np.random.normal(size=len(df), scale=0.3)\n",
    "df['signal_decay'] = df.label + noise * np.linspace(30, 100, len(df))\n",
    "df['signal_improves'] = df.label + noise * np.linspace(100, 30, len(df))"
   ]
  },
  {
   "cell_type": "code",
   "execution_count": null,
   "metadata": {},
   "outputs": [],
   "source": [
    "df[[label, 'signal_decay', 'signal_improves']].iplot(rangeslider=True)"
   ]
  },
  {
   "cell_type": "code",
   "execution_count": null,
   "metadata": {},
   "outputs": [],
   "source": [
    "fs = FeatureSelector()\n",
    "best_features = fs.run(\n",
    "    eval_func=get_mae_from_cv_time_series,\n",
    "    df=df,\n",
    "    model_ref=LGBMRegressor,\n",
    "    feature_list=[i for i in df.columns if i != label]\n",
    ")"
   ]
  },
  {
   "cell_type": "markdown",
   "metadata": {},
   "source": [
    "## 3) Tuner"
   ]
  },
  {
   "cell_type": "code",
   "execution_count": null,
   "metadata": {},
   "outputs": [],
   "source": [
    "Tuner(\n",
    "    lazy_optuna_space=[\n",
    "        ('learning_rate', 'trial.suggest_float', 0.03, 0.3),\n",
    "        ('n_estimators', 'trial.suggest_int', 10, 100),\n",
    "    ],\n",
    "    n_trials=5,\n",
    ").run(\n",
    "    eval_func=get_mae_from_cv_time_series,\n",
    "    df=df,\n",
    "    model_ref=LGBMRegressor,\n",
    "    feature_list=[i for i in df.columns if i != label]    \n",
    ")"
   ]
  }
 ],
 "metadata": {
  "kernelspec": {
   "display_name": "Python 3 (ipykernel)",
   "language": "python",
   "name": "python3"
  },
  "language_info": {
   "codemirror_mode": {
    "name": "ipython",
    "version": 3
   },
   "file_extension": ".py",
   "mimetype": "text/x-python",
   "name": "python",
   "nbconvert_exporter": "python",
   "pygments_lexer": "ipython3",
   "version": "3.8.5"
  }
 },
 "nbformat": 4,
 "nbformat_minor": 4
}
